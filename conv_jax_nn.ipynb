{
  "nbformat": 4,
  "nbformat_minor": 0,
  "metadata": {
    "colab": {
      "name": "jax_nn2.ipynb",
      "provenance": [],
      "collapsed_sections": []
    },
    "kernelspec": {
      "name": "python3",
      "display_name": "Python 3"
    },
    "accelerator": "GPU"
  },
  "cells": [
    {
      "cell_type": "code",
      "metadata": {
        "colab": {
          "base_uri": "https://localhost:8080/"
        },
        "id": "PHhN9wi3caMZ",
        "outputId": "87d5c0ca-b172-4c3d-a390-0c0685b41bba"
      },
      "source": [
        "!git clone https://github.com/google-research/google-research.git\n",
        "!git clone https://github.com/jcwang111/nn-dft.git\n",
        "!pip install -e google-research/jax_dft"
      ],
      "execution_count": 1,
      "outputs": [
        {
          "output_type": "stream",
          "text": [
            "fatal: destination path 'google-research' already exists and is not an empty directory.\n",
            "fatal: destination path 'nn-dft' already exists and is not an empty directory.\n",
            "Obtaining file:///content/google-research/jax_dft\n",
            "Requirement already satisfied: absl-py>=0.10.0 in /usr/local/lib/python3.6/dist-packages (from jax-dft==0.0.0) (0.10.0)\n",
            "Requirement already satisfied: jax>=0.2.0 in /usr/local/lib/python3.6/dist-packages (from jax-dft==0.0.0) (0.2.9)\n",
            "Requirement already satisfied: jaxlib>=0.1.56 in /usr/local/lib/python3.6/dist-packages (from jax-dft==0.0.0) (0.1.60+cuda101)\n",
            "Requirement already satisfied: numpy>=1.16.4 in /usr/local/lib/python3.6/dist-packages (from jax-dft==0.0.0) (1.19.5)\n",
            "Requirement already satisfied: scipy>=1.2.1 in /usr/local/lib/python3.6/dist-packages (from jax-dft==0.0.0) (1.4.1)\n",
            "Requirement already satisfied: six in /usr/local/lib/python3.6/dist-packages (from absl-py>=0.10.0->jax-dft==0.0.0) (1.15.0)\n",
            "Requirement already satisfied: opt-einsum in /usr/local/lib/python3.6/dist-packages (from jax>=0.2.0->jax-dft==0.0.0) (3.3.0)\n",
            "Requirement already satisfied: flatbuffers in /usr/local/lib/python3.6/dist-packages (from jaxlib>=0.1.56->jax-dft==0.0.0) (1.12)\n",
            "Installing collected packages: jax-dft\n",
            "  Found existing installation: jax-dft 0.0.0\n",
            "    Can't uninstall 'jax-dft'. No files were found to uninstall.\n",
            "  Running setup.py develop for jax-dft\n",
            "Successfully installed jax-dft\n"
          ],
          "name": "stdout"
        }
      ]
    },
    {
      "cell_type": "markdown",
      "metadata": {
        "id": "S-RAQZwvi3t4"
      },
      "source": [
        "Neural network layers"
      ]
    },
    {
      "cell_type": "code",
      "metadata": {
        "id": "1GevlWtobXbt"
      },
      "source": [
        "import jax.numpy as jnp\n",
        "from jax import grad, jit, vmap\n",
        "from jax import random\n",
        "from jax.nn import sigmoid\n",
        "from jax import lax\n",
        "from jax.nn.initializers import he_normal, glorot_normal\n",
        "\n",
        "def get_dense_layer(m, n, activation):\n",
        "    def init_dense(key, scale=1E-4):\n",
        "        '''Generate weights and biases for a m->n layer'''\n",
        "        w_key, b_key = random.split(key)\n",
        "        return glorot_normal()(w_key, (n,m)), scale*random.normal(b_key, (n,))\n",
        "\n",
        "    def predict(params, x):\n",
        "        '''Apply one dense layer with weight w, bias b, and an activation function'''\n",
        "        w, b = params[0], params[1]\n",
        "        return activation(jnp.dot(x, w.T) + b)\n",
        "\n",
        "    return init_dense, predict\n",
        "\n",
        "def get_global_conv_layer(num_channels, min_xi, max_xi, dx, grids):\n",
        "    \"\"\"Global convolution layer, Eq. S9 in the paper.\"\"\"\n",
        "    displacements = grids[:,None] - grids[None,:]\n",
        "\n",
        "    def _exponential_displacements_func(width):\n",
        "        \"\"\"Exponential function.\n",
        "        Args:\n",
        "            width: Float, parameter of exponential function.\n",
        "        Returns:\n",
        "            Float tensor with same shape as self.displacements.\n",
        "        \"\"\"\n",
        "\n",
        "        return jnp.exp(-jnp.abs(displacements) / width) / (2*width)\n",
        "\n",
        "    def init_params(key, scale=1E-4):\n",
        "        \"\"\"Initialize eta values\"\"\"\n",
        "        return scale*random.normal(key, (num_channels,))\n",
        "\n",
        "    def predict(params, inputs):\n",
        "        \"\"\"Args:\n",
        "            params: shape (8,) array, eta values\n",
        "            inputs: n(x) Float tensor, shape (batch_size, num_grids).\n",
        "        Returns:\n",
        "            Float tensor, shape (batch_size, num_grids, num_channels).\"\"\"\n",
        "        \n",
        "        widths = min_xi + max_xi - min_xi * sigmoid(params) #(num_channels,)\n",
        "        kernels = vmap(_exponential_displacements_func, out_axes=2)(widths) #(grid_size, grid_size, num_channels)\n",
        "        return jnp.tensordot(inputs, kernels, axes=(1, 0)) * dx #(batch_size, 1, num_grids, num_channels)\n",
        "\n",
        "    return init_params, predict\n",
        "\n",
        "def get_conv_layer(window_size, in_channels, out_channels, activation):\n",
        "    \"\"\"1D Convolution with a window size of 3.\"\"\"\n",
        "\n",
        "    def init_weights(key, scale=1):\n",
        "        \"\"\"Initialize eta values\"\"\"\n",
        "        return scale*he_normal()(key, (window_size, in_channels, out_channels))\n",
        "\n",
        "    def predict(kernel, inputs):\n",
        "        \"\"\"Args:\n",
        "            kernel: params input, shape (window_size, in_channels, out_channels)\n",
        "            inputs: channel inputs, shape (batch_size, num_grids, in_channels).\n",
        "        Returns:\n",
        "            Float array, shape (batch_size, num_grids, out_channels).\"\"\"\n",
        "        #if len(inputs.shape) == 2:\n",
        "        #  inputs = inputs[:,:,None]\n",
        "        dn = lax.conv_dimension_numbers(inputs.shape, kernel.shape, ('NWC', 'WIO', 'NWC'))\n",
        "        out = lax.conv_general_dilated(inputs, kernel,\n",
        "                                        window_strides=(1,), padding='SAME', dimension_numbers=dn) \n",
        "        return activation(out)\n",
        "\n",
        "    return init_weights, predict\n",
        "\n",
        "def get_maxpool2_flatten_dense(m, n, activation):\n",
        "    \"\"\"Maxpool over every block of 2 and flatten, then apply dense layer\"\"\"\n",
        "    def init_dense(key, scale=1E-4):\n",
        "        '''Generate weights and biases for a m->n layer'''\n",
        "        w_key, b_key = random.split(key)\n",
        "        return glorot_normal()(w_key, (n,m)), scale*random.normal(b_key, (n,))\n",
        "\n",
        "    def predict(params, x):\n",
        "        '''Apply one dense layer with weight w, bias b, and an activation function'''\n",
        "        x = jnp.maximum(x[:,0:-1:2,:], x[:,1::2,:]).reshape(x.shape[0], -1) #Maxpool 2\n",
        "        w, b = params[0], params[1]\n",
        "        return activation(jnp.dot(x, w.T) + b)\n",
        "\n",
        "    return init_dense, predict"
      ],
      "execution_count": 2,
      "outputs": []
    },
    {
      "cell_type": "markdown",
      "metadata": {
        "id": "2PqTIAPri9Pp"
      },
      "source": [
        "Extra layers"
      ]
    },
    {
      "cell_type": "code",
      "metadata": {
        "id": "B1rzRLtKYK1b"
      },
      "source": [
        "def get_nonbiased_dense_layer(m, n, activation):\n",
        "    def init_dense(key, scale=1E-4):\n",
        "        '''Generate weights for a m->n layer'''\n",
        "        return glorot_normal()(key, (n,m))\n",
        "\n",
        "    def predict(params, x):\n",
        "        '''Apply one dense layer with weight w, no bias, and an activation function'''\n",
        "        return activation(jnp.dot(x, params.T))\n",
        "\n",
        "    return init_dense, predict\n",
        "\n",
        "def get_biased_conv_layer(window_size, in_channels, out_channels, activation):\n",
        "    \"\"\"1D Convolution with a window size of 3.\"\"\"\n",
        "\n",
        "    def init_weights(key, scale=1):\n",
        "        \"\"\"Initialize kernel values\"\"\"\n",
        "        w_key, b_key = random.split(key)\n",
        "        return scale*he_normal()(w_key, (window_size, in_channels, out_channels)), scale*he_normal()(b_key, (1,))\n",
        "\n",
        "    def predict(params, inputs):\n",
        "        \"\"\"Args:\n",
        "            params: [kernel of shape (window_size, in_channels, out_channels), bias of shape (1,)]\n",
        "            inputs: channel inputs, shape (batch_size, num_grids, in_channels).\n",
        "        Returns:\n",
        "            Float array, shape (batch_size, num_grids, out_channels).\"\"\"\n",
        "      \n",
        "        kernel, b = params\n",
        "        dn = lax.conv_dimension_numbers(inputs.shape, kernel.shape, ('NWC', 'WIO', 'NWC'))\n",
        "        out = lax.conv_general_dilated(inputs, kernel,\n",
        "                                        window_strides=(1,), padding='SAME', dimension_numbers=dn) \n",
        "        return activation(out + b)\n",
        "\n",
        "    return init_weights, predict"
      ],
      "execution_count": 3,
      "outputs": []
    },
    {
      "cell_type": "markdown",
      "metadata": {
        "id": "tH9GjlnVi_L6"
      },
      "source": [
        "Main code"
      ]
    },
    {
      "cell_type": "code",
      "metadata": {
        "colab": {
          "base_uri": "https://localhost:8080/"
        },
        "id": "HiBT_joLb-Sa",
        "outputId": "7d0fff92-fe91-44f3-bd3b-8fb993c5ddbf"
      },
      "source": [
        "\"\"\"A reimplementation, also using JAX, of Fig S3(a) in Li et al., “Kohn-Sham equations as regularizer:\n",
        "        Building prior knowledge into machine-learned physics,” arXiv:2009.08551 (2020),\"\"\"\n",
        "\n",
        "import jax.numpy as jnp\n",
        "from jax import grad, jit, vmap\n",
        "from jax import random\n",
        "from jax.nn import sigmoid, relu, softplus, silu, elu\n",
        "from jax import scipy\n",
        "import numpy as np\n",
        "import matplotlib.pyplot as plt\n",
        "from jax_dft import datasets\n",
        "from jax_dft import utils\n",
        "from jax_dft import np_utils\n",
        "import scipy\n",
        "\n",
        "#Retrieve data\n",
        "data = datasets.Dataset(path='nn-dft/data/h2', num_grids=513)\n",
        "densities = data.densities\n",
        "total_energies = data.total_energies\n",
        "grids = data.grids\n",
        "\n",
        "def nn_functions(*layer_gens):\n",
        "    \"\"\"Takes tuples of (init_function, predict_function)\n",
        "    and puts them together\"\"\"\n",
        "    num_layers = len(layer_gens)\n",
        "    init_funcs = [layer[0] for layer in layer_gens]\n",
        "    predict_funcs = [layer[1] for layer in layer_gens]\n",
        "\n",
        "    def init_all_params(key):\n",
        "        keys = random.split(key, num_layers)\n",
        "        return [init(k) for init, k in zip(init_funcs, keys)]\n",
        "\n",
        "    return init_all_params, predict_funcs\n",
        "\n",
        "ACTIV = silu\n",
        "init_params, func_list = nn_functions(\n",
        "    get_global_conv_layer(16, min_xi=0.1,max_xi=2.385345,dx=0.08,grids=grids),\n",
        "    get_conv_layer(3, 16, 16, ACTIV),\n",
        "    get_conv_layer(3, 16, 128, ACTIV),\n",
        "    get_conv_layer(3, 128, 128, ACTIV),\n",
        "    get_maxpool2_flatten_dense(513//2*128, 128, ACTIV),\n",
        "    get_dense_layer(128, 1, lambda i: i)\n",
        ")\n",
        "\n",
        "@jit\n",
        "def predict(params, x):\n",
        "    activations = x\n",
        "    for func, param in zip(func_list, params):\n",
        "        activations = func(param, activations)\n",
        "    return activations.reshape(-1)\n",
        "\n",
        "@jit\n",
        "def MSE_Loss(params, x, target):\n",
        "    \"\"\"Mean-squared error\"\"\"\n",
        "    return jnp.mean((predict(params, x) - target)**2)\n",
        "\n",
        "@jit\n",
        "def grad_descent_update(params, batch_x, batch_y, eta):\n",
        "    \"\"\"Perform an iteration of gradient descent, with learning rate eta.\"\"\"\n",
        "    \n",
        "    grads = grad(MSE_Loss)(params, batch_x, batch_y)\n",
        "    return [w - eta*dw if not type(w) is tuple \n",
        "            else (w[0]-eta*dw[0], w[1]-eta*dw[1]) #Handle dense layer case, two arrays w and b\n",
        "                for w, dw in zip(params, grads)]\n",
        "\n",
        "train_distances = [128, 384]\n",
        "train_mask = jnp.isin(data.distances_x100, train_distances) #Only train at 1.28 and 3.84\n",
        "validation_distances = [296]\n",
        "validation_mask = jnp.isin(data.distances_x100, validation_distances) #Only train at 1.28 and 3.84\n",
        "\n",
        "train_densities = densities[train_mask,:]\n",
        "train_energies = total_energies[train_mask]\n",
        "valid_densities = densities[validation_mask,:]\n",
        "valid_energies = total_energies[validation_mask]\n",
        "\n",
        "grad_MSE = jit(grad(MSE_Loss))\n",
        "\n",
        "def train_and_return(eta, init_key):\n",
        "    \"\"\" Initializes a new model, trains it, and returns results.\n",
        "    Args:\n",
        "        eta: training rate\n",
        "        init_key: jnp array (2,), a PRNGKey()\n",
        "    Returns:\n",
        "        dict containing:\n",
        "            params: list of trained parameter arrays\n",
        "            train_loss: float, final training cost\n",
        "            valid_loss: float, final validation cost\n",
        "            eta: eta argument\n",
        "            seed: init_key argument\n",
        "            loss_record: (parameters, step number) for every 10th BFGS step\n",
        "            num_steps: number of BFGS iterations taken\n",
        "    \"\"\"\n",
        "\n",
        "    params = init_params(init_key)\n",
        "    spec, flat_init_params = np_utils.flatten(params) \n",
        "\n",
        "    loss_record = []\n",
        "    def loss_grad_fn(flat_params):\n",
        "        unflat_params = np_utils.unflatten(spec, flat_params)\n",
        "\n",
        "        if loss_grad_fn.step % 3 == 0: #Save checkpoint every 3 steps\n",
        "            valid_loss = MSE_Loss(unflat_params, valid_densities, valid_energies)\n",
        "            loss_record.append((unflat_params, loss_grad_fn.step))\n",
        "        loss_grad_fn.step += 1\n",
        "\n",
        "        return MSE_Loss(unflat_params, train_densities, train_energies), np_utils.flatten(grad_MSE(unflat_params, train_densities, train_energies))[1]\n",
        "            \n",
        "    loss_grad_fn.step = 0\n",
        "\n",
        "    #print(flat_init_params.shape)\n",
        "    epochs = 20\n",
        "    final_params, train_cost, info = scipy.optimize.fmin_l_bfgs_b(\n",
        "                loss_grad_fn,\n",
        "                x0=np.array(flat_init_params),\n",
        "                # Maximum number of function evaluations.\n",
        "                maxfun=epochs,\n",
        "                factr=1,\n",
        "                m=20,\n",
        "                pgtol=1e-14)\n",
        "    \n",
        "    params = np_utils.unflatten(spec, final_params)\n",
        "    valid_loss = MSE_Loss(params, valid_densities, valid_energies)\n",
        "\n",
        "    print('Training Cost:', train_cost)\n",
        "    print('Validation Cost:', valid_loss)\n",
        "    return {'params':params, 'train_loss':train_cost, 'valid_loss':valid_loss, 'eta':eta, 'seed':init_key,\n",
        "            'loss_record':loss_record, 'num_steps':loss_grad_fn.step}\n",
        "\n",
        "print(ACTIV)"
      ],
      "execution_count": 68,
      "outputs": [
        {
          "output_type": "stream",
          "text": [
            "<function silu at 0x7f16dfffcc80>\n"
          ],
          "name": "stdout"
        }
      ]
    },
    {
      "cell_type": "code",
      "metadata": {
        "colab": {
          "base_uri": "https://localhost:8080/"
        },
        "id": "vFF9_ulMzD6G",
        "outputId": "56d75d5a-f5eb-4b27-970e-f6c0ef731c3f"
      },
      "source": [
        "%%time\n",
        "#Cross validation\n",
        "seeds = random.split(random.PRNGKey(68000), 25)\n",
        "etas = [0.005, 0.01, 0.05, 0.1, 0.5, 1.0, 1.5]\n",
        "\n",
        "best_valid_loss = jnp.inf\n",
        "best_result = None\n",
        "for eta in etas:\n",
        "    for init_key in seeds:\n",
        "        result = train_and_return(eta, init_key)\n",
        "        if result['valid_loss'] < best_valid_loss:\n",
        "            best_result = result"
      ],
      "execution_count": null,
      "outputs": [
        {
          "output_type": "stream",
          "text": [
            "Training Cost: 0.0\n",
            "Validation Cost: 0.0073933084\n",
            "Training Cost: 0.0\n",
            "Validation Cost: 0.008746044\n",
            "Training Cost: 0.0\n",
            "Validation Cost: 0.007394313\n",
            "Training Cost: 0.0\n",
            "Validation Cost: 0.0074527347\n",
            "Training Cost: 0.0\n",
            "Validation Cost: 0.007849734\n",
            "Training Cost: 0.0\n",
            "Validation Cost: 0.0069250534\n",
            "Training Cost: 0.0\n",
            "Validation Cost: 0.006957113\n",
            "Training Cost: 0.0\n",
            "Validation Cost: 0.008137471\n",
            "Training Cost: 7.1054274e-15\n",
            "Validation Cost: 0.00694165\n",
            "Training Cost: 0.0\n",
            "Validation Cost: 0.0077727386\n",
            "Training Cost: 0.0\n",
            "Validation Cost: 0.0074312827\n",
            "Training Cost: 0.0\n",
            "Validation Cost: 0.0063181967\n",
            "Training Cost: 0.0\n",
            "Validation Cost: 0.0074115647\n",
            "Training Cost: 2.842171e-14\n",
            "Validation Cost: 0.007635836\n",
            "Training Cost: 0.0\n",
            "Validation Cost: 0.007490799\n",
            "Training Cost: 0.0\n",
            "Validation Cost: 0.0072894525\n",
            "Training Cost: 0.0\n",
            "Validation Cost: 0.0070953867\n",
            "Training Cost: 0.0\n",
            "Validation Cost: 0.00730703\n",
            "Training Cost: 0.0\n",
            "Validation Cost: 0.0073908484\n",
            "Training Cost: 0.0\n",
            "Validation Cost: 0.00701664\n",
            "Training Cost: 0.0\n",
            "Validation Cost: 0.0071907984\n",
            "Training Cost: 0.0\n",
            "Validation Cost: 0.006882363\n",
            "Training Cost: 7.1054274e-15\n",
            "Validation Cost: 0.0072326283\n",
            "Training Cost: 7.1054274e-15\n",
            "Validation Cost: 0.007065194\n",
            "Training Cost: 0.0\n",
            "Validation Cost: 0.007155259\n",
            "Training Cost: 0.0\n",
            "Validation Cost: 0.0073933084\n",
            "Training Cost: 0.0\n",
            "Validation Cost: 0.008746021\n",
            "Training Cost: 0.0\n",
            "Validation Cost: 0.007394313\n"
          ],
          "name": "stdout"
        }
      ]
    },
    {
      "cell_type": "markdown",
      "metadata": {
        "id": "3gs_pIzhjBhi"
      },
      "source": [
        "Plot optimal data"
      ]
    },
    {
      "cell_type": "code",
      "metadata": {
        "colab": {
          "base_uri": "https://localhost:8080/",
          "height": 571
        },
        "id": "VzQPPB6Hc0B9",
        "outputId": "60313bd1-34e3-436f-eb91-ae76202f97d1"
      },
      "source": [
        "print(\"------------------------\")\n",
        "print(\"Best hyperparameters:\")\n",
        "for k, v in best_result.items():\n",
        "    if k != 'params' and k != 'loss_record':\n",
        "        print(k,':',v)\n",
        "\n",
        "\n",
        "params = best_result['params']\n",
        "result_energies = predict(params, densities)\n",
        "\n",
        "#Nuclear-nuclear repulsion energy, from the 1D exponential interaction\n",
        "nuclear_energy = utils.get_nuclear_interaction_energy_batch(\n",
        "    data.locations,\n",
        "    data.nuclear_charges,\n",
        "    interaction_fn=utils.exponential_coulomb)\n",
        "\n",
        "plt.plot(data.distances, nuclear_energy+total_energies, linestyle='dashed', color='black', label='Exact')\n",
        "plt.plot(data.distances, nuclear_energy+result_energies, color='purple', label='Training result')\n",
        "plt.plot(data.distances[train_mask], (nuclear_energy+total_energies)[train_mask], marker='D', linestyle='None')\n",
        "plt.plot(data.distances[validation_mask], (nuclear_energy+total_energies)[validation_mask], marker='^', linestyle='None')\n",
        "\n",
        "plt.xlabel('Distance')\n",
        "plt.ylabel('$E + E_{nn}$')\n",
        "plt.legend()\n",
        "\n",
        "plt.show()"
      ],
      "execution_count": 63,
      "outputs": [
        {
          "output_type": "stream",
          "text": [
            "------------------------\n",
            "Best hyperparameters:\n",
            "train_loss : 2.842171e-14\n",
            "valid_loss : 0.0011375541\n",
            "eta : 1.0\n",
            "seed : [ 310675292 2884451463]\n",
            "num_steps : 56\n"
          ],
          "name": "stdout"
        },
        {
          "output_type": "display_data",
          "data": {
            "image/png": "[encoded data removed]",
            "text/plain": [
              "<Figure size 640x480 with 1 Axes>"
            ]
          },
          "metadata": {
            "tags": []
          }
        }
      ]
    },
    {
      "cell_type": "markdown",
      "metadata": {
        "id": "WKkAUXlIjHsR"
      },
      "source": [
        "Plot checkpoints"
      ]
    },
    {
      "cell_type": "code",
      "metadata": {
        "colab": {
          "base_uri": "https://localhost:8080/",
          "height": 447
        },
        "id": "Drt_myi6WNfl",
        "outputId": "ccec495e-3858-40e7-bbaf-cdfe84ab414f"
      },
      "source": [
        "result = best_result #train_and_return(1.0, jnp.array([ 310675292, 2884451463], np.uint32))\n",
        "loss_record = result['loss_record']\n",
        "print(len(loss_record))\n",
        "\n",
        "for param, step in loss_record[::3]:\n",
        "  shade = 1 - (step+3) / (result['num_steps']+3)\n",
        "  plt.plot(data.distances, nuclear_energy+predict(param, data.densities), color=(shade, shade, shade), label=f'Step {step}')\n",
        "\n",
        "plt.plot(data.distances, nuclear_energy+total_energies, linestyle='dashed', color='black', label='Exact')\n",
        "plt.plot(data.distances, nuclear_energy+predict(result['params'], data.densities), color='purple', label='Training result')\n",
        "plt.plot(data.distances[train_mask], (nuclear_energy+total_energies)[train_mask], marker='D', linestyle='None')\n",
        "plt.plot(data.distances[validation_mask], (nuclear_energy+total_energies)[validation_mask], marker='^', linestyle='None')\n",
        "\n",
        "plt.legend()\n",
        "\n",
        "plt.rcParams.update(plt.rcParamsDefault)\n",
        "\n",
        "from google.colab import files\n",
        "filename = \"silu_original.png\"\n",
        "plt.savefig(filename)\n",
        "files.download(filename) \n",
        "\n",
        "plt.show()"
      ],
      "execution_count": 67,
      "outputs": [
        {
          "output_type": "stream",
          "text": [
            "19\n"
          ],
          "name": "stdout"
        },
        {
          "output_type": "display_data",
          "data": {
            "application/javascript": [
              "\n",
              "    async function download(id, filename, size) {\n",
              "      if (!google.colab.kernel.accessAllowed) {\n",
              "        return;\n",
              "      }\n",
              "      const div = document.createElement('div');\n",
              "      const label = document.createElement('label');\n",
              "      label.textContent = `Downloading \"${filename}\": `;\n",
              "      div.appendChild(label);\n",
              "      const progress = document.createElement('progress');\n",
              "      progress.max = size;\n",
              "      div.appendChild(progress);\n",
              "      document.body.appendChild(div);\n",
              "\n",
              "      const buffers = [];\n",
              "      let downloaded = 0;\n",
              "\n",
              "      const channel = await google.colab.kernel.comms.open(id);\n",
              "      // Send a message to notify the kernel that we're ready.\n",
              "      channel.send({})\n",
              "\n",
              "      for await (const message of channel.messages) {\n",
              "        // Send a message to notify the kernel that we're ready.\n",
              "        channel.send({})\n",
              "        if (message.buffers) {\n",
              "          for (const buffer of message.buffers) {\n",
              "            buffers.push(buffer);\n",
              "            downloaded += buffer.byteLength;\n",
              "            progress.value = downloaded;\n",
              "          }\n",
              "        }\n",
              "      }\n",
              "      const blob = new Blob(buffers, {type: 'application/binary'});\n",
              "      const a = document.createElement('a');\n",
              "      a.href = window.URL.createObjectURL(blob);\n",
              "      a.download = filename;\n",
              "      div.appendChild(a);\n",
              "      a.click();\n",
              "      div.remove();\n",
              "    }\n",
              "  "
            ],
            "text/plain": [
              "<IPython.core.display.Javascript object>"
            ]
          },
          "metadata": {
            "tags": []
          }
        },
        {
          "output_type": "display_data",
          "data": {
            "application/javascript": [
              "download(\"download_65954c34-9d21-4ad4-8adb-417f47be1cdd\", \"softplus_no_global_conv.png\", 38003)"
            ],
            "text/plain": [
              "<IPython.core.display.Javascript object>"
            ]
          },
          "metadata": {
            "tags": []
          }
        },
        {
          "output_type": "display_data",
          "data": {
            "image/png": "[encoded data removed]",
            "text/plain": [
              "<Figure size 640x480 with 1 Axes>"
            ]
          },
          "metadata": {
            "tags": []
          }
        }
      ]
    }
  ]
}